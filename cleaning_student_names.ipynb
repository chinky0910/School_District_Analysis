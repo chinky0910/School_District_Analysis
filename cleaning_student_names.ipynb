{
 "cells": [
  {
   "cell_type": "code",
   "execution_count": null,
   "id": "16c30fc9",
   "metadata": {},
   "outputs": [],
   "source": [
    "import pandas as pd\n",
    "school_data_to_path = \"Resources/schools_complete.csv\"\n",
    "\n",
    "student_data_to_path = \"Resources/students_complete.csv\"\n",
    "\n",
    "school_data = pd.read_csv(school_data_to_path)\n",
    "\n",
    "school_data "
   ]
  },
  {
   "cell_type": "code",
   "execution_count": null,
   "id": "c7823398",
   "metadata": {},
   "outputs": [],
   "source": [
    "import pandas as pd\n",
    "\n",
    "import os\n",
    "\n",
    "school_data_to_load = os.path.join(\"Resources\", \"schools_complete.csv\")\n",
    "\n",
    "student_data_to_load = os.path.join(\"Resources\", \"students_complete.csv\")\n",
    "\n",
    "result = pd.read_csv(student_data_to_load)\n",
    "\n",
    "result.head()\n",
    "\n"
   ]
  },
  {
   "cell_type": "code",
   "execution_count": null,
   "id": "26e58182",
   "metadata": {},
   "outputs": [],
   "source": [
    "import pandas as pd\n",
    "import os\n",
    "\n",
    "school_file_to_load = os.path.join(\"Resources\", \"schools_complete.csv\")\n",
    "student_file_to_load = os.path.join(\"Resources\", \"students_complete.csv\")\n",
    "result = pd.read_csv(school_file_to_load)\n",
    "result.count()\n"
   ]
  },
  {
   "cell_type": "code",
   "execution_count": null,
   "id": "cbf31295",
   "metadata": {},
   "outputs": [],
   "source": [
    "import pandas as pd\n",
    "import os\n",
    "\n",
    "school_file_to_load = os.path.join(\"Resources\", \"schools_complete.csv\")\n",
    "student_file_to_load = os.path.join(\"Resources\", \"students_complete.csv\")\n",
    "result = pd.read_csv(student_file_to_load)\n",
    "result.count()"
   ]
  },
  {
   "cell_type": "code",
   "execution_count": null,
   "id": "5f1a0a73",
   "metadata": {},
   "outputs": [],
   "source": [
    "import pandas as pd\n",
    "import os\n",
    "\n",
    "school_file_to_load = os.path.join(\"Resources\", \"schools_complete.csv\")\n",
    "student_file_to_load = os.path.join(\"Resources\", \"students_complete.csv\")\n",
    "result = pd.read_csv(student_file_to_load)\n",
    "result.isnull()"
   ]
  },
  {
   "cell_type": "code",
   "execution_count": null,
   "id": "a0ae540a",
   "metadata": {},
   "outputs": [],
   "source": [
    "import pandas as pd\n",
    "import os\n",
    "school_file_to_load = os.path.join(\"Resources\", \"schools_complete.csv\")\n",
    "student_file_to_load = os.path.join(\"Resources\", \"students_complete.csv\")\n",
    "result = pd.read_csv(school_file_to_load)\n",
    "result.isnull().sum()"
   ]
  },
  {
   "cell_type": "code",
   "execution_count": null,
   "id": "8df9977a",
   "metadata": {},
   "outputs": [],
   "source": [
    "import pandas as pd\n",
    "import os\n",
    "school_file_to_load = os.path.join(\"Resources\", \"schools_complete.csv\")\n",
    "student_file_to_load = os.path.join(\"Resources\", \"students_complete.csv\")\n",
    "result = pd.read_csv(school_file_to_load)\n",
    "result.notnull().sum()"
   ]
  },
  {
   "cell_type": "code",
   "execution_count": null,
   "id": "c6c18391",
   "metadata": {},
   "outputs": [],
   "source": [
    "import pandas as pd\n",
    "import os\n",
    "school_file_to_load = os.path.join(\"Resources\", \"schools_complete.csv\")\n",
    "student_file_to_load = os.path.join(\"Resources\", \"students_complete.csv\")\n",
    "result = pd.read_csv(student_file_to_load)\n",
    "result.notnull().sum()"
   ]
  },
  {
   "cell_type": "code",
   "execution_count": null,
   "id": "6f68d573",
   "metadata": {},
   "outputs": [],
   "source": [
    "import pandas as pd\n",
    "import os\n",
    "school_file_to_load = os.path.join(\"Resources\", \"schools_complete.csv\")\n",
    "student_file_to_load = os.path.join(\"Resources\", \"students_complete.csv\")\n",
    "result = pd.read_csv(student_file_to_load)\n",
    "result.reading_score.dtypes"
   ]
  },
  {
   "cell_type": "code",
   "execution_count": null,
   "id": "f7b8f059",
   "metadata": {},
   "outputs": [],
   "source": [
    "import pandas as pd\n",
    "school_data_to_path = \"Resources/schools_complete.csv\"\n",
    "\n",
    "student_data_to_path = \"Resources/students_complete.csv\"\n",
    "\n",
    "school_data = pd.read_csv(school_data_to_path)\n",
    "\n",
    "school_data.budget.dtype"
   ]
  },
  {
   "cell_type": "code",
   "execution_count": null,
   "id": "460382cc",
   "metadata": {},
   "outputs": [],
   "source": [
    "import pandas as pd\n",
    "school_data_to_path = \"Resources/schools_complete.csv\"\n",
    "\n",
    "student_data_to_path = \"Resources/students_complete.csv\"\n",
    "\n",
    "school_data = pd.read_csv(student_data_to_path)\n",
    "\n",
    "school_data.student_name.tolist()"
   ]
  },
  {
   "cell_type": "code",
   "execution_count": null,
   "id": "ef057b66",
   "metadata": {},
   "outputs": [],
   "source": [
    "name = \"Mrs. Linda Santiago\"\n",
    "new_name = name.split()\n",
    "len(new_name)"
   ]
  },
  {
   "cell_type": "code",
   "execution_count": null,
   "id": "be1bc07b",
   "metadata": {},
   "outputs": [],
   "source": [
    "import pandas as pd\n",
    "\n",
    "school_data_to_path = \"Resources/schools_complete.csv\"\n",
    "\n",
    "student_data_to_path = \"Resources/students_complete.csv\"\n",
    "\n",
    "school_data = pd.read_csv(student_data_to_path)\n",
    "\n",
    "student_names = school_data.student_name.tolist()\n",
    "\n",
    "for name in student_names:\n",
    "    print(name.split(),len(name.split()))\n"
   ]
  },
  {
   "cell_type": "code",
   "execution_count": null,
   "id": "e582fa80",
   "metadata": {},
   "outputs": [],
   "source": [
    "import pandas as pd\n",
    "\n",
    "student_to_fix = []\n",
    "\n",
    "school_data_to_path = \"Resources/schools_complete.csv\"\n",
    "\n",
    "student_data_to_path = \"Resources/students_complete.csv\"\n",
    "\n",
    "school_data = pd.read_csv(student_data_to_path)\n",
    "\n",
    "student_names = school_data.student_name.tolist()\n",
    "\n",
    "for name in student_names:\n",
    "    if len(name.split()) >=3:\n",
    "        student_to_fix.append(name)\n",
    "        \n",
    "len(student_to_fix)\n",
    "\n",
    "print(student_to_fix)    "
   ]
  },
  {
   "cell_type": "code",
   "execution_count": null,
   "id": "f5f571f4",
   "metadata": {},
   "outputs": [],
   "source": [
    "import pandas as pd\n",
    "#prefixes = []\n",
    "\n",
    "school_data_to_path = \"Resources/schools_complete.csv\"\n",
    "\n",
    "student_data_to_path = \"Resources/students_complete.csv\"\n",
    "\n",
    "school_data = pd.read_csv(student_data_to_path)\n",
    "\n",
    "student_names = school_data.student_name.tolist()\n",
    "\n",
    "for name in student_names:\n",
    "    #if len(name.split()[0])<=4:\n",
    "        #prefixes.append(name.split()[0])\n",
    "    print(name.strip('Mrs.'))"
   ]
  },
  {
   "cell_type": "code",
   "execution_count": null,
   "id": "0c5193bb",
   "metadata": {},
   "outputs": [],
   "source": [
    "import pandas as pd\n",
    "#suffixes = []\n",
    "\n",
    "school_data_to_path = \"Resources/schools_complete.csv\"\n",
    "\n",
    "student_data_to_path = \"Resources/students_complete.csv\"\n",
    "\n",
    "school_data = pd.read_csv(student_data_to_path)\n",
    "\n",
    "student_names = school_data.student_name.tolist()\n",
    "\n",
    "for name in student_names:\n",
    "    if len(name.split()[-1])<=3:\n",
    "        suffixes.append(name.split()[-1])\n",
    "\n",
    "#set(suffixes)\n",
    "\n",
    "name.strip('MD')"
   ]
  },
  {
   "cell_type": "code",
   "execution_count": null,
   "id": "f28f7e43",
   "metadata": {},
   "outputs": [],
   "source": [
    "import pandas as pd\n",
    "name = \"Mrs. Linda Santiago\"\n",
    "new_name = name.replace(\"Mrs.\",\"Dr.\")\n",
    "print(new_name)"
   ]
  },
  {
   "cell_type": "code",
   "execution_count": null,
   "id": "186d8d5b",
   "metadata": {},
   "outputs": [],
   "source": [
    "import pandas as pd\n",
    "name = \"Mrs. Linda Santiago\"\n",
    "new_name = name.replace(\"Mrs. \", \"\")\n",
    "print(new_name)"
   ]
  },
  {
   "cell_type": "code",
   "execution_count": 19,
   "id": "f5f6a033",
   "metadata": {},
   "outputs": [
    {
     "name": "stderr",
     "output_type": "stream",
     "text": [
      "/Users/ankit/opt/anaconda3/envs/PythonData/lib/python3.7/site-packages/ipykernel_launcher.py:25: FutureWarning: The default value of regex will change from True to False in a future version.\n"
     ]
    },
    {
     "data": {
      "text/plain": [
       "0           Paul Bradley\n",
       "1           Victor Smith\n",
       "2        Kevin Rodriguez\n",
       "3          Richard Scott\n",
       "4             Bonnie Ray\n",
       "              ...       \n",
       "39165       Donna Howard\n",
       "39166          Dawn Bell\n",
       "39167     Rebecca Tanner\n",
       "39168       Desiree Kidd\n",
       "39169    Carolyn Jackson\n",
       "Name: student_name, Length: 39170, dtype: object"
      ]
     },
     "execution_count": 19,
     "metadata": {},
     "output_type": "execute_result"
    }
   ],
   "source": [
    "import pandas as pd\n",
    "\n",
    "school_data_to_path = \"Resources/schools_complete.csv\"\n",
    "\n",
    "student_data_to_path = \"Resources/students_complete.csv\"\n",
    "\n",
    "school_data = pd.read_csv(student_data_to_path)\n",
    "\n",
    "#school_data['student_name']\n",
    "student_names = school_data.student_name.tolist()\n",
    "#student_names\n",
    "\n",
    "prefixes_suffixes = [\"Dr. \", \"Mr. \",\"Ms. \", \"Mrs. \", \"Miss \", \" MD\", \" DDS\", \" DVM\", \" PhD\"]\n",
    "\n",
    "#updated_student_name_list = []\n",
    "#for name in student_names:\n",
    "    #for i in range(len(prefixes_suffixes)):\n",
    "        #if prefixes_suffixes[i] in name:\n",
    "           # name = name.replace(prefixes_suffixes[i], \"\")\n",
    "       # else:\n",
    "            #name = name\n",
    "    #updated_student_name_list.append(name)\n",
    "    #updated_student_name_list\n",
    "for word in prefixes_suffixes:\n",
    "    school_data[\"student_name\"] = school_data[\"student_name\"].str.replace(word,\"\")\n",
    "\n",
    "school_data['student_name']    \n",
    "#print('school_data[student_names]')"
   ]
  },
  {
   "cell_type": "code",
   "execution_count": 29,
   "id": "4f028bf8",
   "metadata": {},
   "outputs": [
    {
     "name": "stdout",
     "output_type": "stream",
     "text": [
      "   Student ID     student_name gender grade        school_name  reading_score  \\\n",
      "0           0     Paul Bradley      M   9th  Huang High School             66   \n",
      "1           1     Victor Smith      M  12th  Huang High School             94   \n",
      "2           2  Kevin Rodriguez      M  12th  Huang High School             90   \n",
      "3           3    Richard Scott      M  12th  Huang High School             67   \n",
      "4           4       Bonnie Ray      F   9th  Huang High School             97   \n",
      "5           5    Bryan Miranda      M   9th  Huang High School             94   \n",
      "6           6    Sheena Carter      F  11th  Huang High School             82   \n",
      "7           7     Nicole Baker      F  12th  Huang High School             96   \n",
      "8           8     Michael Roth      M  10th  Huang High School             95   \n",
      "9           9   Matthew Greene      M  10th  Huang High School             96   \n",
      "\n",
      "   math_score  \n",
      "0          79  \n",
      "1          61  \n",
      "2          60  \n",
      "3          58  \n",
      "4          84  \n",
      "5          94  \n",
      "6          80  \n",
      "7          69  \n",
      "8          87  \n",
      "9          84  \n"
     ]
    },
    {
     "name": "stderr",
     "output_type": "stream",
     "text": [
      "/Users/ankit/opt/anaconda3/envs/PythonData/lib/python3.7/site-packages/ipykernel_launcher.py:26: FutureWarning: The default value of regex will change from True to False in a future version.\n"
     ]
    }
   ],
   "source": [
    "import pandas as pd\n",
    "\n",
    "school_data_to_path = \"Resources/schools_complete.csv\"\n",
    "\n",
    "student_data_to_path = \"Resources/students_complete.csv\"\n",
    "\n",
    "school_data = pd.read_csv(student_data_to_path)\n",
    "\n",
    "#school_data['student_name']\n",
    "student_names = school_data.student_name.tolist()\n",
    "#student_names\n",
    "\n",
    "prefixes_suffixes = [\"Dr. \", \"Mr. \",\"Ms. \", \"Mrs. \", \"Miss \", \" MD\", \" DDS\", \" DVM\", \" PhD\"]\n",
    "\n",
    "#updated_student_name_list = []\n",
    "#for name in student_names:\n",
    "    #for i in range(len(prefixes_suffixes)):\n",
    "        #if prefixes_suffixes[i] in name:\n",
    "           # name = name.replace(prefixes_suffixes[i], \"\")\n",
    "       # else:\n",
    "            #name = name\n",
    "    #updated_student_name_list.append(name)\n",
    "    #updated_student_name_list\n",
    "for word in prefixes_suffixes:\n",
    "    \n",
    "    school_data[\"student_name\"] = school_data[\"student_name\"].str.replace(word,\"\")\n",
    "    \n",
    "print(school_data.head(10))"
   ]
  },
  {
   "cell_type": "code",
   "execution_count": null,
   "id": "8d387fa5",
   "metadata": {},
   "outputs": [],
   "source": []
  },
  {
   "cell_type": "code",
   "execution_count": null,
   "id": "f97e3b93",
   "metadata": {},
   "outputs": [],
   "source": []
  }
 ],
 "metadata": {
  "kernelspec": {
   "display_name": "Python 3 (ipykernel)",
   "language": "python",
   "name": "python3"
  },
  "language_info": {
   "codemirror_mode": {
    "name": "ipython",
    "version": 3
   },
   "file_extension": ".py",
   "mimetype": "text/x-python",
   "name": "python",
   "nbconvert_exporter": "python",
   "pygments_lexer": "ipython3",
   "version": "3.7.11"
  }
 },
 "nbformat": 4,
 "nbformat_minor": 5
}
